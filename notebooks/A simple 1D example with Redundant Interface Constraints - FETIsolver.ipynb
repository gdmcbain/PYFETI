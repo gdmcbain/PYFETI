{
 "cells": [
  {
   "cell_type": "markdown",
   "metadata": {},
   "source": [
    "Simple 1D bar problem\n",
    "-------------------------------\n",
    "\n",
    "Let's define a static equilibrium of 2 bars defined by the following matrices:\n",
    "\n",
    "* Bar 1\n",
    "$$\n",
    "\\mathbf{K_1} =\n",
    "\\begin{bmatrix}\n",
    "2 & -1 \\\\\n",
    "-1 & 1\n",
    "\\end{bmatrix}\n",
    "$$\n",
    "\n",
    "$$\n",
    "\\mathbf{B_1} =\n",
    "\\begin{bmatrix}\n",
    "0 & 1\n",
    "0 & 1\n",
    "0 & 1\n",
    "\\end{bmatrix}\n",
    "$$\n",
    "\n",
    "$$\n",
    "\\mathbf{f_1} =\n",
    "\\begin{bmatrix}\n",
    "0  \\\\\n",
    "0\n",
    "\\end{bmatrix}\n",
    "$$\n",
    "\n",
    "* Bar 2\n",
    "$$\n",
    "\\mathbf{K_2} =\n",
    "\\begin{bmatrix}\n",
    " 1 & -1 \\\\\n",
    "-1 & 2\n",
    "\\end{bmatrix}\n",
    "$$\n",
    "\n",
    "$$\n",
    "\\mathbf{B_2} =\n",
    "\\begin{bmatrix}\n",
    "-1 & 0\n",
    "-1 & 0\n",
    "-1 & 0\n",
    "\\end{bmatrix}\n",
    "$$\n",
    "\n",
    "\n",
    "\n",
    "$$\n",
    "\\mathbf{f_2} =\n",
    "\\begin{bmatrix}\n",
    "0  \\\\\n",
    "1\n",
    "\\end{bmatrix}\n",
    "$$\n",
    "\n",
    "These matrices discrebe two bars, where Bar 1 is fixed in the left and the Bar 2 fixed in the right.\n",
    "\n",
    "The equilibrium of these two bars are given by:\n",
    "\n",
    "$$\n",
    "\\mathbf{K_1} \\mathbf{u_1} = \\mathbf{f_1} \\\\\n",
    "\\mathbf{K_2}  \\mathbf{u_2} = \\mathbf{f_2} \\\\\n",
    "$$\n",
    "\n",
    "Now, we introduce the compatibility contraints between these two bars, such that:\n",
    "\n",
    "\n",
    "$$\n",
    "\\mathbf{B_1} \\mathbf{u_1} + \\mathbf{B_2} \\mathbf{u_2} = \\mathbf{0} \\\\\n",
    "$$\n",
    "\n",
    "Then, we can write the hybrid problem as:\n",
    "\n",
    "$$\n",
    "\\begin{bmatrix}\n",
    "\\mathbf{K} &  \\mathbf{B^T}  \\\\\n",
    "\\mathbf{B} & \\mathbf{0}\n",
    "\\end{bmatrix}\n",
    "\\begin{bmatrix}\n",
    "\\mathbf{u}  \\\\\n",
    "\\mathbf{\\lambda}\n",
    "\\end{bmatrix}\n",
    "=\n",
    "\\begin{bmatrix}\n",
    "\\mathbf{f}  \\\\\n",
    "\\mathbf{0}\n",
    "\\end{bmatrix}\n",
    "$$"
   ]
  },
  {
   "cell_type": "code",
   "execution_count": 1,
   "metadata": {},
   "outputs": [],
   "source": [
    "import numpy as np\n",
    "from scipy.sparse import linalg\n",
    "from scipy.sparse import coo_matrix, bmat, hstack, vstack, linalg\n",
    "from pyfeti.src.feti_solver import SerialFETIsolver\n",
    "\n",
    "\n",
    "# A simple example with Reduntant Constraints Positive Define Domains\n",
    "K1 = np.array([[2,-1],[-1,1]])\n",
    "K2 = np.array([[1,-1],[-1,2]])\n",
    "B1 = np.array([[0,1],[0,1],[0,1]]) \n",
    "B2 = np.array([[-1,0],[-1,0],[-1,0]]) \n",
    "f1 = np.array([0.,0.])                \n",
    "f2 = np.array([0.,1.])                \n",
    "               \n",
    "\n",
    "    \n",
    "K = bmat([[K1,None],[None,K2]])\n",
    "B = np.array(np.bmat([[B1,B2]]))\n",
    "nc, ndof = B.shape\n",
    "f = np.concatenate([f1,f2])\n",
    "b = np.concatenate([f,np.zeros(nc)])\n",
    "A = bmat([[K,B.T],[B,None]]).A"
   ]
  },
  {
   "cell_type": "code",
   "execution_count": 2,
   "metadata": {},
   "outputs": [
    {
     "data": {
      "text/plain": [
       "array([[ 2, -1,  0,  0,  0,  0,  0],\n",
       "       [-1,  1,  0,  0,  1,  1,  1],\n",
       "       [ 0,  0,  1, -1, -1, -1, -1],\n",
       "       [ 0,  0, -1,  2,  0,  0,  0],\n",
       "       [ 0,  1, -1,  0,  0,  0,  0],\n",
       "       [ 0,  1, -1,  0,  0,  0,  0],\n",
       "       [ 0,  1, -1,  0,  0,  0,  0]], dtype=int32)"
      ]
     },
     "execution_count": 2,
     "metadata": {},
     "output_type": "execute_result"
    }
   ],
   "source": [
    "A"
   ]
  },
  {
   "cell_type": "code",
   "execution_count": 3,
   "metadata": {},
   "outputs": [],
   "source": [
    "x, info = linalg.cg(A,b)\n",
    "u = x[:ndof]\n",
    "lambda_ = x[-nc:]"
   ]
  },
  {
   "cell_type": "code",
   "execution_count": 4,
   "metadata": {},
   "outputs": [
    {
     "data": {
      "text/plain": [
       "array([ 5.55111512e-17,  1.80411242e-16, -1.38777878e-16, -1.11022302e-16,\n",
       "       -1.66533454e-16, -1.66533454e-16, -1.66533454e-16])"
      ]
     },
     "execution_count": 4,
     "metadata": {},
     "output_type": "execute_result"
    }
   ],
   "source": [
    "A.dot(x)  - b"
   ]
  },
  {
   "cell_type": "code",
   "execution_count": 5,
   "metadata": {},
   "outputs": [],
   "source": [
    "# dual formulation\n",
    "K_inv = np.linalg.inv(K.A)\n",
    "F = B@K_inv@B.T\n",
    "d = np.array(B@K_inv@f).flatten()"
   ]
  },
  {
   "cell_type": "code",
   "execution_count": 6,
   "metadata": {},
   "outputs": [],
   "source": [
    "x_cg, info = linalg.cg(F,d)"
   ]
  },
  {
   "cell_type": "code",
   "execution_count": 7,
   "metadata": {},
   "outputs": [
    {
     "data": {
      "text/plain": [
       "array([0., 0., 0.])"
      ]
     },
     "execution_count": 7,
     "metadata": {},
     "output_type": "execute_result"
    }
   ],
   "source": [
    "F@x_cg - d"
   ]
  },
  {
   "cell_type": "code",
   "execution_count": 8,
   "metadata": {},
   "outputs": [
    {
     "data": {
      "text/plain": [
       "array([-8.32667268e-17, -8.32667268e-17, -8.32667268e-17])"
      ]
     },
     "execution_count": 8,
     "metadata": {},
     "output_type": "execute_result"
    }
   ],
   "source": [
    "x_cg - lambda_"
   ]
  },
  {
   "cell_type": "code",
   "execution_count": 9,
   "metadata": {},
   "outputs": [
    {
     "data": {
      "text/plain": [
       "array([ 1.20000000e+01,  2.46519033e-32, -3.00385456e-16])"
      ]
     },
     "execution_count": 9,
     "metadata": {},
     "output_type": "execute_result"
    }
   ],
   "source": [
    "eigval, eigvec = np.linalg.eig(F)\n",
    "\n",
    "eigval"
   ]
  },
  {
   "cell_type": "code",
   "execution_count": 10,
   "metadata": {},
   "outputs": [
    {
     "data": {
      "text/plain": [
       "array([[ 5.77350269e-01, -6.51147040e-17,  6.09781659e-01],\n",
       "       [ 5.77350269e-01, -7.07106781e-01, -7.75129861e-01],\n",
       "       [ 5.77350269e-01,  7.07106781e-01,  1.65348202e-01]])"
      ]
     },
     "execution_count": 10,
     "metadata": {},
     "output_type": "execute_result"
    }
   ],
   "source": [
    "eigvec"
   ]
  },
  {
   "cell_type": "code",
   "execution_count": 11,
   "metadata": {},
   "outputs": [],
   "source": [
    "x0 = np.array(eigvec[:,1]).flatten()\n",
    "x_cg, info = linalg.cg(F,d,x0)"
   ]
  },
  {
   "cell_type": "code",
   "execution_count": 12,
   "metadata": {},
   "outputs": [
    {
     "data": {
      "text/plain": [
       "0"
      ]
     },
     "execution_count": 12,
     "metadata": {},
     "output_type": "execute_result"
    }
   ],
   "source": [
    "info"
   ]
  },
  {
   "cell_type": "code",
   "execution_count": 13,
   "metadata": {},
   "outputs": [
    {
     "data": {
      "text/plain": [
       "array([-0.08333333, -0.79044011,  0.62377345])"
      ]
     },
     "execution_count": 13,
     "metadata": {},
     "output_type": "execute_result"
    }
   ],
   "source": [
    "x_cg"
   ]
  },
  {
   "cell_type": "code",
   "execution_count": 14,
   "metadata": {},
   "outputs": [
    {
     "data": {
      "text/plain": [
       "array([-2.22044605e-16, -7.07106781e-01,  7.07106781e-01])"
      ]
     },
     "execution_count": 14,
     "metadata": {},
     "output_type": "execute_result"
    }
   ],
   "source": [
    " x_cg - lambda_"
   ]
  },
  {
   "cell_type": "code",
   "execution_count": 15,
   "metadata": {},
   "outputs": [
    {
     "data": {
      "text/plain": [
       "array([4.4408921e-16, 4.4408921e-16, 4.4408921e-16])"
      ]
     },
     "execution_count": 15,
     "metadata": {},
     "output_type": "execute_result"
    }
   ],
   "source": [
    "F@x_cg - d"
   ]
  },
  {
   "cell_type": "code",
   "execution_count": 16,
   "metadata": {},
   "outputs": [],
   "source": [
    "u_cg = K_inv@(f - B.T@x_cg)"
   ]
  },
  {
   "cell_type": "code",
   "execution_count": 17,
   "metadata": {},
   "outputs": [
    {
     "data": {
      "text/plain": [
       "array([0.25, 0.5 , 0.5 , 0.75])"
      ]
     },
     "execution_count": 17,
     "metadata": {},
     "output_type": "execute_result"
    }
   ],
   "source": [
    "K_inv@(f - B.T@x_cg)"
   ]
  },
  {
   "cell_type": "code",
   "execution_count": 18,
   "metadata": {},
   "outputs": [
    {
     "data": {
      "text/plain": [
       "array([[ 0,  1, -1,  0],\n",
       "       [ 0,  1, -1,  0],\n",
       "       [ 0,  1, -1,  0]])"
      ]
     },
     "execution_count": 18,
     "metadata": {},
     "output_type": "execute_result"
    }
   ],
   "source": [
    "B"
   ]
  },
  {
   "cell_type": "code",
   "execution_count": 19,
   "metadata": {},
   "outputs": [
    {
     "data": {
      "text/plain": [
       "array([0., 0., 0., 1.])"
      ]
     },
     "execution_count": 19,
     "metadata": {},
     "output_type": "execute_result"
    }
   ],
   "source": [
    "f"
   ]
  },
  {
   "cell_type": "code",
   "execution_count": 20,
   "metadata": {},
   "outputs": [
    {
     "data": {
      "text/plain": [
       "array([0.25, 0.5 , 0.5 , 0.75])"
      ]
     },
     "execution_count": 20,
     "metadata": {},
     "output_type": "execute_result"
    }
   ],
   "source": [
    "u_cg"
   ]
  },
  {
   "cell_type": "code",
   "execution_count": 21,
   "metadata": {},
   "outputs": [
    {
     "data": {
      "text/plain": [
       "array([0.25, 0.5 , 0.5 , 0.75])"
      ]
     },
     "execution_count": 21,
     "metadata": {},
     "output_type": "execute_result"
    }
   ],
   "source": [
    "u"
   ]
  },
  {
   "cell_type": "code",
   "execution_count": 22,
   "metadata": {},
   "outputs": [],
   "source": [
    "# Using PyFETI to solve the probrem described above\n",
    "K_dict = {1:K1,2:K2}\n",
    "B_dict = {1 : {(1,2) : B1}, 2 : {(2,1) : B2}}\n",
    "f_dict = {1:f1,2:f2}\n",
    "\n",
    "solver_obj = SerialFETIsolver(K_dict,B_dict,f_dict)\n",
    "\n",
    "solution_obj = solver_obj.solve()\n",
    "\n",
    "u_dual = solution_obj.displacement\n",
    "lambda_ = solution_obj.interface_lambda\n",
    "alpha =  solution_obj.alpha\n"
   ]
  },
  {
   "cell_type": "code",
   "execution_count": 23,
   "metadata": {},
   "outputs": [
    {
     "data": {
      "text/plain": [
       "array([0.25, 0.5 , 0.5 , 0.75])"
      ]
     },
     "execution_count": 23,
     "metadata": {},
     "output_type": "execute_result"
    }
   ],
   "source": [
    "u_dual"
   ]
  }
 ],
 "metadata": {
  "kernelspec": {
   "display_name": "Python (NDCSI)",
   "language": "python",
   "name": "ndcsi"
  },
  "language_info": {
   "codemirror_mode": {
    "name": "ipython",
    "version": 3
   },
   "file_extension": ".py",
   "mimetype": "text/x-python",
   "name": "python",
   "nbconvert_exporter": "python",
   "pygments_lexer": "ipython3",
   "version": "3.6.6"
  }
 },
 "nbformat": 4,
 "nbformat_minor": 2
}
