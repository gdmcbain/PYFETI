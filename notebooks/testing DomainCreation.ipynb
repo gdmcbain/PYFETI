{
 "cells": [
  {
   "cell_type": "code",
   "execution_count": null,
   "metadata": {},
   "outputs": [],
   "source": [
    "%matplotlib notebook\n",
    "import numpy as np\n",
    "import collections\n",
    "import os\n",
    "import matplotlib.pyplot as plt\n",
    "import amfe\n",
    "from pyfeti import utils\n",
    "from pyfeti.src.utils import OrderedSet, Get_dofs, save_object, dict2dfmap\n",
    "from pyfeti import linalg\n",
    "\n",
    "number_of_div = 3\n",
    "creator_obj  = utils.DomainCreator(x_divisions=number_of_div,y_divisions=number_of_div)\n",
    "mesh_path = r'mesh1.msh'\n",
    "creator_obj.save_gmsh_file(mesh_path)\n",
    "\n",
    "# create folder to save domain matrices\n",
    "case_path = os.path.join(os.getcwd(),'matrices\\case_' + str(number_of_div))\n",
    "try:\n",
    "    os.makedirs(case_path)\n",
    "except:\n",
    "    pass"
   ]
  },
  {
   "cell_type": "code",
   "execution_count": null,
   "metadata": {},
   "outputs": [],
   "source": [
    "#import mesh\n",
    "m = amfe.Mesh()\n",
    "m.import_msh(mesh_path)\n",
    "\n",
    "# creating material\n",
    "my_material = amfe.KirchhoffMaterial(E=210E9, nu=0.3, rho=7.86E3, plane_stress=True, thickness=1.0)\n",
    "\n",
    "my_system = amfe.MechanicalSystem()\n",
    "my_system.set_mesh_obj(m)\n",
    "my_system.set_domain(3,my_material)\n",
    "\n",
    "value = 5.0E9\n",
    "my_system.apply_neumann_boundaries(2, value, 'normal')\n",
    "id_matrix = my_system.assembly_class.id_matrix\n",
    "\n"
   ]
  },
  {
   "cell_type": "code",
   "execution_count": null,
   "metadata": {},
   "outputs": [],
   "source": [
    "# assembling global matrices\n",
    "K, f = my_system.assembly_class.assemble_k_and_f()\n",
    "ndof = K.shape[0]\n",
    "\n",
    "K0, fext = my_system.assembly_class.assemble_k_and_f_neumann()\n",
    "save_object(K,os.path.join(case_path,'K.pkl'))\n",
    "save_object(fext,os.path.join(case_path,'f.pkl'))"
   ]
  },
  {
   "cell_type": "code",
   "execution_count": null,
   "metadata": {},
   "outputs": [],
   "source": [
    "id_map_df = dict2dfmap(id_matrix)\n",
    "gdof = Get_dofs(id_map_df)\n",
    "\n",
    "tag_dict = {}\n",
    "tag_dict['left'] = 1\n",
    "tag_dict['right'] = 2\n",
    "tag_dict['bottom'] = 4\n",
    "tag_dict['top'] = 5\n",
    "\n",
    "get_nodes = lambda i : list(np.sort(m.groups[i].global_node_list))\n",
    "\n",
    "all_dofs = set(gdof.get(get_nodes(3),'xy'))\n",
    "#dof_dict = collections.OrderedDict()\n",
    "dof_dict = {}\n",
    "dofs = set()\n",
    "for key, value in tag_dict.items():\n",
    "    key_dofs = gdof.get(get_nodes(value),'xy')\n",
    "    dof_dict[key] = key_dofs \n",
    "    dofs.update(key_dofs)\n",
    "\n",
    "dof_dict['internal'] = list(all_dofs - dofs)   \n"
   ]
  },
  {
   "cell_type": "code",
   "execution_count": null,
   "metadata": {},
   "outputs": [],
   "source": [
    "\n",
    "s = utils.SelectionOperator(dof_dict,id_map_df,remove_duplicated = False)\n",
    "save_object(s,os.path.join(case_path,'selectionOperator.pkl'))\n",
    "B_list = []\n",
    "for key, value in tag_dict.items():\n",
    "    B = s.build_B(key)\n",
    "    B_list.append(B)\n",
    "    B_path = os.path.join(case_path,'B_' + key + '.pkl')\n",
    "    save_object(B,B_path)"
   ]
  },
  {
   "cell_type": "code",
   "execution_count": null,
   "metadata": {},
   "outputs": [],
   "source": [
    "amfe.plot2Dmesh(m)\n",
    "plt.savefig(os.path.join(case_path,'mesh.png'))"
   ]
  },
  {
   "cell_type": "code",
   "execution_count": null,
   "metadata": {},
   "outputs": [],
   "source": []
  }
 ],
 "metadata": {
  "kernelspec": {
   "display_name": "Python (NDCSI)",
   "language": "python",
   "name": "ndcsi"
  },
  "language_info": {
   "codemirror_mode": {
    "name": "ipython",
    "version": 3
   },
   "file_extension": ".py",
   "mimetype": "text/x-python",
   "name": "python",
   "nbconvert_exporter": "python",
   "pygments_lexer": "ipython3",
   "version": "3.6.6"
  }
 },
 "nbformat": 4,
 "nbformat_minor": 2
}
