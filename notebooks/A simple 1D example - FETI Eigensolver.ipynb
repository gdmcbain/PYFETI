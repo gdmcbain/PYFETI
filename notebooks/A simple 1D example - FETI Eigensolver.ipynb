{
 "cells": [
  {
   "cell_type": "markdown",
   "metadata": {},
   "source": [
    "Simple 1D bar problem\n",
    "-------------------------------\n",
    "\n",
    "Let's define a the eigenvalue problem for a 5 dofs bar:\n",
    "\n",
    "* Bar\n",
    "$$\n",
    "\\mathbf{K_p} =\n",
    "\\begin{bmatrix}\n",
    "2 & -1 & 0 & 0 & 0  \\\\\n",
    "-1 & 2 & -1 & 0 & 0  \\\\\n",
    "0 & -1 & 2 & -1 & 0  \\\\\n",
    "0 & 0 & -1 & 2 & -1  \\\\\n",
    "0 & 2 & 0 & -1 & 2  \n",
    "\\end{bmatrix}\n",
    "$$\n",
    "\n",
    "$$\n",
    "\\mathbf{M_p} =\n",
    "\\begin{bmatrix}\n",
    "1 & 0 & 0 & 0 & 0  \\\\\n",
    "0 & 2 & 0 & 0 & 0  \\\\\n",
    "0 & 0 & 2 & 0 & 0  \\\\\n",
    "0 & 0 & 0 & 2 & 0  \\\\\n",
    "0 & 0 & 0 & 0 & 1  \n",
    "\\end{bmatrix}\n",
    "$$\n",
    "\n",
    "Thus, the eigenvalue problem can be written as:\n",
    "\n",
    "$$\n",
    "\\mathbf{K_p} \\mathbf{\\phi} = \\lambda \\mathbf{M_p}\\mathbf{\\phi} \\\\\n",
    "$$\n",
    "\n",
    "\n",
    "Let's decompose the previous domain in 2 domains defined by the following matrices:\n",
    "\n",
    "* Bar 1\n",
    "$$\n",
    "\\mathbf{K_1} =\n",
    "\\begin{bmatrix}\n",
    "2 & -1 & 0 \\\\\n",
    "1 & 2 & -1 \\\\\n",
    "0 & -1 & 1\n",
    "\\end{bmatrix}\n",
    "$$\n",
    "\n",
    "$$\n",
    "\\mathbf{B_1} =\n",
    "\\begin{bmatrix}\n",
    "0 & 0 & 1\n",
    "\\end{bmatrix}\n",
    "$$\n",
    "\n",
    "$$\n",
    "\\mathbf{M_1} =\n",
    "\\begin{bmatrix}\n",
    "1 & 0 & 0  \\\\\n",
    "0 & 2 & 0  \\\\\n",
    "0 & 0 & 1   \\\\\n",
    "\\end{bmatrix}\n",
    "$$\n",
    "\n",
    "* Bar 2\n",
    "$$\n",
    "\\mathbf{K_2} =\n",
    "\\begin{bmatrix}\n",
    "1 & -1 & 0 \\\\\n",
    "1 & 2 & -1 \\\\\n",
    "0 & -1 & 2\n",
    "\\end{bmatrix}\n",
    "$$\n",
    "\n",
    "$$\n",
    "\\mathbf{B_2} =\n",
    "\\begin{bmatrix}\n",
    "-1 & 0 & 0\n",
    "\\end{bmatrix}\n",
    "$$\n",
    "\n",
    "\n",
    "\n",
    "$$\n",
    "\\mathbf{M_2} =\n",
    "\\begin{bmatrix}\n",
    "1 & 0 & 0  \\\\\n",
    "0 & 2 & 0  \\\\\n",
    "0 & 0 & 1   \\\\\n",
    "\\end{bmatrix}\n",
    "$$\n",
    "\n",
    "These matrices discrebe two bars, where Bar 1 is fixed in the left and the Bar 2 fixed in the right.\n",
    "\n",
    "The eigenvalue problem can be written as:\n",
    "\n",
    "$$\n",
    "\\begin{bmatrix}\n",
    "\\mathbf{K1} & \\mathbf{0}  \\\\\n",
    "\\mathbf{0} & \\mathbf{K2}   \\\\  \n",
    "\\end{bmatrix}\n",
    "\\begin{bmatrix}\n",
    "\\phi_1 \\\\\n",
    "\\phi_2 \\\\  \n",
    "\\end{bmatrix}\n",
    "= \n",
    "\\lambda\n",
    "\\begin{bmatrix}\n",
    "\\mathbf{M1} & \\mathbf{0}  \\\\\n",
    "\\mathbf{0} & \\mathbf{M2}   \\\\  \n",
    "\\end{bmatrix}\n",
    "\\begin{bmatrix}\n",
    "\\phi_1 \\\\\n",
    "\\phi_2 \\\\  \n",
    "\\end{bmatrix}\n",
    "$$\n",
    "\n",
    "We must introduce the compatibility contraints between these two bars, such that:\n",
    "\n",
    "\n",
    "$$\n",
    "\\mathbf{B_1} \\mathbf{\\phi_1} + \\mathbf{B_2} \\mathbf{\\phi_2} = \\mathbf{0} \\\\\n",
    "$$\n",
    "\n",
    "Then, we can write the hybrid problem as:\n",
    "\n",
    "$$\n",
    "\\begin{bmatrix}\n",
    "\\mathbf{K} &  \\mathbf{B^T}  \\\\\n",
    "\\mathbf{B} & \\mathbf{0}\n",
    "\\end{bmatrix}\n",
    "\\begin{bmatrix}\n",
    "\\mathbf{\\phi_u}  \\\\\n",
    "\\mathbf{\\phi_{\\lambda}}\n",
    "\\end{bmatrix}\n",
    "=\n",
    "\\begin{bmatrix}\n",
    "\\mathbf{M} & \\mathbf{0}  \\\\\n",
    "\\mathbf{0} & \\mathbf{0}   \\\\  \n",
    "\\end{bmatrix}\n",
    "\\begin{bmatrix}\n",
    "\\mathbf{\\phi_u}  \\\\\n",
    "\\mathbf{\\phi_{\\lambda}}\n",
    "\\end{bmatrix}\n",
    "$$"
   ]
  },
  {
   "cell_type": "code",
   "execution_count": 20,
   "metadata": {},
   "outputs": [],
   "source": [
    "import numpy as np\n",
    "import scipy\n",
    "import matplotlib.pyplot as plt\n",
    "from scipy.sparse import linalg\n",
    "from scipy.sparse import coo_matrix, bmat, hstack, vstack, linalg\n",
    "from pyfeti.src.feti_solver import SerialFETIsolver, ProjLinearSys\n",
    "\n",
    "\n",
    "# A simple example with Positive Define Domains\n",
    "Kp = np.array([[ 2, -1, 0., 0, 0.],\n",
    "               [-1, 2.,-1, 0., 0.],\n",
    "               [0.,-1., 2.,-1., 0.],\n",
    "               [0, 0.,-1, 2., -1.],\n",
    "               [0., 0.,0., -1., 2.]])\n",
    "\n",
    "Mp = np.array([[ 1, 0., 0., 0, 0.],\n",
    "               [0., 2.,0., 0., 0.],\n",
    "               [0.,0., 2.,0., 0.],\n",
    "               [0, 0.,0., 2., 0.],\n",
    "               [0., 0.,0., 0., 1.]])\n"
   ]
  },
  {
   "cell_type": "code",
   "execution_count": 21,
   "metadata": {},
   "outputs": [
    {
     "data": {
      "text/plain": [
       "array([0.14536232, 0.6339746 , 1.40303172, 2.3660254 , 2.45160596])"
      ]
     },
     "execution_count": 21,
     "metadata": {},
     "output_type": "execute_result"
    }
   ],
   "source": [
    "eigvalues, V = scipy.linalg.eigh(Kp,b=Mp)\n",
    "eigvalues"
   ]
  },
  {
   "cell_type": "code",
   "execution_count": 22,
   "metadata": {},
   "outputs": [],
   "source": [
    "import numpy as np\n",
    "from scipy.sparse import linalg\n",
    "from scipy.sparse import coo_matrix, bmat, hstack, vstack, linalg\n",
    "from pyfeti.src.feti_solver import SerialFETIsolver\n",
    "\n",
    "\n",
    "# A simple example with Positive Define Domains\n",
    "K1 = np.array([[2.,-1, 0.],\n",
    "               [-1,2.,-1.],\n",
    "               [0.,-1.,1.]])\n",
    "\n",
    "K2 = np.array([[1.,-1.,0.],\n",
    "               [-1,2.,-1.],\n",
    "               [0.,-1.,2.]])\n",
    "\n",
    "M1 = np.array([[1.,0., 0.],\n",
    "               [0.,2.,0.],\n",
    "               [0.,0.,1.]])\n",
    "\n",
    "M2 = np.array([[1.,0., 0.],\n",
    "               [0.,2.,0.],\n",
    "               [0.,0.,1.]])\n",
    "\n",
    "\n",
    "B1 = np.array([[0,0,1]]) \n",
    "B2 = np.array([[-1,0,0]]) \n",
    "               \n",
    "               \n",
    "\n",
    "    \n",
    "K = bmat([[K1,None],[None,K2]])\n",
    "M = bmat([[M1,None],[None,M2]])\n",
    "B = np.bmat([B1,B2]).A\n",
    "nc, ndof = B.shape\n",
    "\n",
    "\n",
    "A = bmat([[K,B.T],[B,None]]).A\n",
    "Mdual = bmat([[M,0*B.T],[0*B,None]]).A\n",
    "BBTinv = np.linalg.inv(B.dot(B.T))\n",
    "P = np.eye(ndof) - B.T.dot(BBTinv.dot(B))"
   ]
  },
  {
   "cell_type": "code",
   "execution_count": 23,
   "metadata": {},
   "outputs": [],
   "source": [
    "#omega_dual_2, V_dual = scipy.linalg.eigh(A,b=Mdual)"
   ]
  },
  {
   "cell_type": "code",
   "execution_count": 24,
   "metadata": {},
   "outputs": [],
   "source": [
    "D = np.linalg.inv(A).dot(Mdual)\n",
    "omega_dual_2, V_dual = scipy.linalg.eigh(D)"
   ]
  },
  {
   "cell_type": "code",
   "execution_count": 27,
   "metadata": {},
   "outputs": [
    {
     "data": {
      "text/plain": [
       "array([-1.01006269e+00, -4.50359963e+15,  7.94251178e+00,  1.60098873e+00,\n",
       "        1.44392882e+00,  4.15968201e-01,  1.39998495e-01])"
      ]
     },
     "execution_count": 27,
     "metadata": {},
     "output_type": "execute_result"
    }
   ],
   "source": [
    "dual_eig = 1./omega_dual_2\n",
    "dual_eig "
   ]
  },
  {
   "cell_type": "code",
   "execution_count": 28,
   "metadata": {},
   "outputs": [
    {
     "data": {
      "text/plain": [
       "array([0.14536232, 0.6339746 , 1.40303172, 2.3660254 , 2.45160596])"
      ]
     },
     "execution_count": 28,
     "metadata": {},
     "output_type": "execute_result"
    }
   ],
   "source": [
    "eigvalues"
   ]
  },
  {
   "cell_type": "code",
   "execution_count": 33,
   "metadata": {},
   "outputs": [
    {
     "data": {
      "text/plain": [
       "Text(0, 0.5, 'Dual eigenvalues')"
      ]
     },
     "execution_count": 33,
     "metadata": {},
     "output_type": "execute_result"
    },
    {
     "data": {
      "image/png": "[encoded data removed]",
      "text/plain": [
       "<Figure size 432x288 with 1 Axes>"
      ]
     },
     "metadata": {
      "needs_background": "light"
     },
     "output_type": "display_data"
    }
   ],
   "source": [
    "plt.plot(eigvalues[:5],dual_eig[:5],'o')\n",
    "plt.xlabel('Primal eigenvalues')\n",
    "plt.ylabel('Dual eigenvalues')\n"
   ]
  },
  {
   "cell_type": "code",
   "execution_count": 9,
   "metadata": {},
   "outputs": [],
   "source": [
    "def power_iteration(A, b =None, max_nint=500,tol=1e-12):\n",
    "    ''' Computer a power iteration for a matrix A or a Linear\n",
    "    Operator\n",
    "        parameters\n",
    "            A\n",
    "            b\n",
    "            max_int\n",
    "            tol\n",
    "    returns\n",
    "        b_k : np.array\n",
    "            the biggest eigenvector of A\n",
    "    '''\n",
    "   \n",
    "    if b is None:\n",
    "        b_k = np.random.rand(A.shape[1])\n",
    "    else:\n",
    "        b_k = b\n",
    "        \n",
    "    for i in range(max_nint):\n",
    "        # calculate the matrix-by-vector product Ab\n",
    "        b_k1 = A.dot(b_k)\n",
    "\n",
    "        # calculate the norm\n",
    "        b_k1_norm = np.linalg.norm(b_k1)\n",
    "        \n",
    "        if np.linalg.norm(b_k1 - b_k)<tol:\n",
    "            b_k = b_k1 / b_k1_norm\n",
    "            print('Power has conveged after %i' %i)\n",
    "            break\n",
    "        \n",
    "        # re normalize the vector\n",
    "        b_k = b_k1 / b_k1_norm\n",
    "        \n",
    "\n",
    "    return b_k\n",
    "\n",
    "def is_eigvec(A,vec,M=None,tol=1.0e-6,show=True):\n",
    "    ''' check is a vec is a eigenvector of A or\n",
    "    a eigenvector of Ax = lambdaMx\n",
    "    \n",
    "    paramters:\n",
    "        A : np.array\n",
    "            right hand side matrix of the eigenvalue problem\n",
    "        vec : np.array\n",
    "            eigenvector to be tested\n",
    "        M : np.array\n",
    "            left hand side of the generalized eigenvalue problem\n",
    "        tol : float\n",
    "            tolerante in the norm difference between vector \n",
    "        show : Boolen\n",
    "            print norm on the screen\n",
    "            \n",
    "    returns:\n",
    "        Boolean\n",
    "            True : if is vec is eigenvector\n",
    "            Flase : if s vec is not eigenvector\n",
    "    '''\n",
    "    \n",
    "    ndof = len(vec)\n",
    "    if M is None:\n",
    "        M = np.eye(ndof)\n",
    "    \n",
    "    vec1 = np.array(M.dot(vec)).flatten()\n",
    "    vec2 = np.array(A.dot(vec)).flatten()\n",
    "    \n",
    "    norm_vec1 = np.linalg.norm(vec1)\n",
    "    norm_vec2 = np.linalg.norm(vec2)\n",
    "    unit_vec1 = vec1/norm_vec1\n",
    "    unit_vec2 = vec2/norm_vec2\n",
    "\n",
    "    norm_dif = np.linalg.norm(unit_vec1 - unit_vec2)\n",
    "    if show:\n",
    "        print('The L2 norm of the vectors ||(v2/||v2|| - v1/|| v1 ||)|| where A*v=scale*M*v , v1= scale * v2 is %f' %norm_dif)\n",
    "    if norm_dif>tol:\n",
    "        return False\n",
    "    else:\n",
    "        return True    \n",
    "\n"
   ]
  },
  {
   "cell_type": "code",
   "execution_count": 13,
   "metadata": {},
   "outputs": [
    {
     "data": {
      "text/plain": [
       "0.1453623202815386"
      ]
     },
     "execution_count": 13,
     "metadata": {},
     "output_type": "execute_result"
    }
   ],
   "source": [
    "#Power eigenvalue\n",
    "v_k = power_iteration(D,tol=1)\n",
    "eigval = np.linalg.norm(D.dot(v_k))\n",
    "1/eigval"
   ]
  },
  {
   "cell_type": "code",
   "execution_count": 39,
   "metadata": {},
   "outputs": [],
   "source": [
    "obj = ProjLinearSys(K,M,P,solver_tol=1.0E-12)\n",
    "S = linalg.LinearOperator(shape=K.shape,matvec= lambda x : obj.solve(x))"
   ]
  },
  {
   "cell_type": "code",
   "execution_count": 40,
   "metadata": {},
   "outputs": [],
   "source": [
    "omega_dual_2, V_dual = linalg.eigsh(S,k=4)"
   ]
  },
  {
   "cell_type": "code",
   "execution_count": 43,
   "metadata": {},
   "outputs": [
    {
     "data": {
      "text/plain": [
       "array([0.14512189, 0.64681412, 1.41248897, 2.26238953])"
      ]
     },
     "execution_count": 43,
     "metadata": {},
     "output_type": "execute_result"
    }
   ],
   "source": [
    "dual_eig = np.sort(1./omega_dual_2)\n",
    "dual_eig "
   ]
  },
  {
   "cell_type": "code",
   "execution_count": 44,
   "metadata": {},
   "outputs": [
    {
     "data": {
      "text/plain": [
       "array([0.14536232, 0.6339746 , 1.40303172, 2.3660254 , 2.45160596])"
      ]
     },
     "execution_count": 44,
     "metadata": {},
     "output_type": "execute_result"
    }
   ],
   "source": [
    "eigvalues"
   ]
  },
  {
   "cell_type": "code",
   "execution_count": 46,
   "metadata": {},
   "outputs": [
    {
     "data": {
      "text/plain": [
       "Text(0, 0.5, 'Dual eigenvalues')"
      ]
     },
     "execution_count": 46,
     "metadata": {},
     "output_type": "execute_result"
    },
    {
     "data": {
      "image/png": "[encoded data removed]",
      "text/plain": [
       "<Figure size 432x288 with 1 Axes>"
      ]
     },
     "metadata": {
      "needs_background": "light"
     },
     "output_type": "display_data"
    }
   ],
   "source": [
    "plt.plot(eigvalues[:4],dual_eig[:4],'o')\n",
    "plt.xlabel('Primal eigenvalues')\n",
    "plt.ylabel('Dual eigenvalues')"
   ]
  },
  {
   "cell_type": "code",
   "execution_count": null,
   "metadata": {},
   "outputs": [],
   "source": []
  }
 ],
 "metadata": {
  "kernelspec": {
   "display_name": "Python (PyFETI)",
   "language": "python",
   "name": "pyfeti"
  },
  "language_info": {
   "codemirror_mode": {
    "name": "ipython",
    "version": 3
   },
   "file_extension": ".py",
   "mimetype": "text/x-python",
   "name": "python",
   "nbconvert_exporter": "python",
   "pygments_lexer": "ipython3",
   "version": "3.6.8"
  }
 },
 "nbformat": 4,
 "nbformat_minor": 2
}
