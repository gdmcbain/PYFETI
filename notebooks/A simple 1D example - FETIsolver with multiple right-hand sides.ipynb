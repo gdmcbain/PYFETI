{
 "cells": [
  {
   "cell_type": "markdown",
   "metadata": {},
   "source": [
    "Simple 1D bar problem\n",
    "-------------------------------\n",
    "\n",
    "Let's define a static equilibrium of 2 bars defined by the following matrices:\n",
    "\n",
    "* Bar 1\n",
    "$$\n",
    "\\mathbf{K_1} =\n",
    "\\begin{bmatrix}\n",
    "2 & -1 \\\\\n",
    "-1 & 1\n",
    "\\end{bmatrix}\n",
    "$$\n",
    "\n",
    "$$\n",
    "\\mathbf{B_1} =\n",
    "\\begin{bmatrix}\n",
    "0 & 1\n",
    "\\end{bmatrix}\n",
    "$$\n",
    "\n",
    "$$\n",
    "\\mathbf{f_1} =\n",
    "\\begin{bmatrix}\n",
    "0  \\\\\n",
    "0\n",
    "\\end{bmatrix}\n",
    "$$\n",
    "\n",
    "* Bar 2\n",
    "$$\n",
    "\\mathbf{K_2} =\n",
    "\\begin{bmatrix}\n",
    " 1 & -1 \\\\\n",
    "-1 & 2\n",
    "\\end{bmatrix}\n",
    "$$\n",
    "\n",
    "$$\n",
    "\\mathbf{B_2} =\n",
    "\\begin{bmatrix}\n",
    "-1 & 0\n",
    "\\end{bmatrix}\n",
    "$$\n",
    "\n",
    "\n",
    "\n",
    "$$\n",
    "\\mathbf{f_2} =\n",
    "\\begin{bmatrix}\n",
    "0  \\\\\n",
    "1\n",
    "\\end{bmatrix}\n",
    "$$\n",
    "\n",
    "These matrices discrebe two bars, where Bar 1 is fixed in the left and the Bar 2 fixed in the right.\n",
    "\n",
    "The equilibrium of these two bars are given by:\n",
    "\n",
    "$$\n",
    "\\mathbf{K_1} \\mathbf{u_1} = \\mathbf{f_1} \\\\\n",
    "\\mathbf{K_2}  \\mathbf{u_2} = \\mathbf{f_2} \\\\\n",
    "$$\n",
    "\n",
    "Now, we introduce the compatibility contraints between these two bars, such that:\n",
    "\n",
    "\n",
    "$$\n",
    "\\mathbf{B_1} \\mathbf{u_1} + \\mathbf{B_2} \\mathbf{u_2} = \\mathbf{0} \\\\\n",
    "$$\n",
    "\n",
    "Then, we can write the hybrid problem as:\n",
    "\n",
    "$$\n",
    "\\begin{bmatrix}\n",
    "\\mathbf{K} &  \\mathbf{B^T}  \\\\\n",
    "\\mathbf{B} & \\mathbf{0}\n",
    "\\end{bmatrix}\n",
    "\\begin{bmatrix}\n",
    "\\mathbf{u}  \\\\\n",
    "\\mathbf{\\lambda}\n",
    "\\end{bmatrix}\n",
    "=\n",
    "\\begin{bmatrix}\n",
    "\\mathbf{f}  \\\\\n",
    "\\mathbf{0}\n",
    "\\end{bmatrix}\n",
    "$$"
   ]
  },
  {
   "cell_type": "code",
   "execution_count": 2,
   "metadata": {},
   "outputs": [],
   "source": [
    "import numpy as np\n",
    "from scipy.sparse import linalg\n",
    "from scipy.sparse import coo_matrix, bmat, hstack, vstack, linalg\n",
    "from pyfeti.src.feti_solver import SerialFETIsolver\n",
    "\n",
    "\n",
    "# A simple example with Positive Define Domains\n",
    "K1 = np.array([[2,-1],[-1,1]])\n",
    "K2 = np.array([[1,-1],[-1,2]])\n",
    "B1 = np.array([[0,1]]) \n",
    "B2 = np.array([[-1,0]]) \n",
    "f1 = np.array([[0.,0.],[2.,0.]])                \n",
    "f2 = np.array([[0.,1.],[1.,0.]])                \n",
    "               \n"
   ]
  },
  {
   "cell_type": "code",
   "execution_count": 3,
   "metadata": {},
   "outputs": [
    {
     "ename": "ValueError",
     "evalue": "non-broadcastable output operand with shape (1,) doesn't match the broadcast shape (1,2)",
     "output_type": "error",
     "traceback": [
      "\u001b[0;31m---------------------------------------------------------------------------\u001b[0m",
      "\u001b[0;31mValueError\u001b[0m                                Traceback (most recent call last)",
      "\u001b[0;32m<ipython-input-3-cf11388a348c>\u001b[0m in \u001b[0;36m<module>\u001b[0;34m\u001b[0m\n\u001b[1;32m      6\u001b[0m \u001b[0msolver_obj\u001b[0m \u001b[0;34m=\u001b[0m \u001b[0mSerialFETIsolver\u001b[0m\u001b[0;34m(\u001b[0m\u001b[0mK_dict\u001b[0m\u001b[0;34m,\u001b[0m\u001b[0mB_dict\u001b[0m\u001b[0;34m,\u001b[0m\u001b[0mf_dict\u001b[0m\u001b[0;34m)\u001b[0m\u001b[0;34m\u001b[0m\u001b[0;34m\u001b[0m\u001b[0m\n\u001b[1;32m      7\u001b[0m \u001b[0;34m\u001b[0m\u001b[0m\n\u001b[0;32m----> 8\u001b[0;31m \u001b[0msolution_obj\u001b[0m \u001b[0;34m=\u001b[0m \u001b[0msolver_obj\u001b[0m\u001b[0;34m.\u001b[0m\u001b[0msolve\u001b[0m\u001b[0;34m(\u001b[0m\u001b[0;34m)\u001b[0m\u001b[0;34m\u001b[0m\u001b[0;34m\u001b[0m\u001b[0m\n\u001b[0m\u001b[1;32m      9\u001b[0m \u001b[0;34m\u001b[0m\u001b[0m\n\u001b[1;32m     10\u001b[0m \u001b[0mu_dual\u001b[0m \u001b[0;34m=\u001b[0m \u001b[0msolution_obj\u001b[0m\u001b[0;34m.\u001b[0m\u001b[0mdisplacement\u001b[0m\u001b[0;34m\u001b[0m\u001b[0;34m\u001b[0m\u001b[0m\n",
      "\u001b[0;32m~/dev/PYFETI/pyfeti/src/feti_solver.py\u001b[0m in \u001b[0;36msolve\u001b[0;34m(self)\u001b[0m\n\u001b[1;32m     79\u001b[0m \u001b[0;34m\u001b[0m\u001b[0m\n\u001b[1;32m     80\u001b[0m        \u001b[0mstart_time\u001b[0m \u001b[0;34m=\u001b[0m \u001b[0mtime\u001b[0m\u001b[0;34m.\u001b[0m\u001b[0mtime\u001b[0m\u001b[0;34m(\u001b[0m\u001b[0;34m)\u001b[0m\u001b[0;34m\u001b[0m\u001b[0;34m\u001b[0m\u001b[0m\n\u001b[0;32m---> 81\u001b[0;31m        \u001b[0mlambda_sol\u001b[0m\u001b[0;34m,\u001b[0m\u001b[0malpha_sol\u001b[0m\u001b[0;34m,\u001b[0m \u001b[0mrk\u001b[0m\u001b[0;34m,\u001b[0m \u001b[0mproj_r_hist\u001b[0m\u001b[0;34m,\u001b[0m \u001b[0mlambda_hist\u001b[0m\u001b[0;34m,\u001b[0m \u001b[0minfo_dict\u001b[0m \u001b[0;34m=\u001b[0m \u001b[0mmanager\u001b[0m\u001b[0;34m.\u001b[0m\u001b[0msolve_dual_interface_problem\u001b[0m\u001b[0;34m(\u001b[0m\u001b[0;34m)\u001b[0m\u001b[0;34m\u001b[0m\u001b[0;34m\u001b[0m\u001b[0m\n\u001b[0m\u001b[1;32m     82\u001b[0m        \u001b[0melaspsed_time_PCPG\u001b[0m \u001b[0;34m=\u001b[0m \u001b[0mtime\u001b[0m\u001b[0;34m.\u001b[0m\u001b[0mtime\u001b[0m\u001b[0;34m(\u001b[0m\u001b[0;34m)\u001b[0m \u001b[0;34m-\u001b[0m \u001b[0mstart_time\u001b[0m\u001b[0;34m\u001b[0m\u001b[0;34m\u001b[0m\u001b[0m\n\u001b[1;32m     83\u001b[0m \u001b[0;34m\u001b[0m\u001b[0m\n",
      "\u001b[0;32m~/dev/PYFETI/pyfeti/src/feti_solver.py\u001b[0m in \u001b[0;36msolve_dual_interface_problem\u001b[0;34m(self, algorithm)\u001b[0m\n\u001b[1;32m    325\u001b[0m         \u001b[0mlogging\u001b[0m\u001b[0;34m.\u001b[0m\u001b[0minfo\u001b[0m\u001b[0;34m(\u001b[0m\u001b[0;34m'Computing global residual'\u001b[0m\u001b[0;34m)\u001b[0m\u001b[0;34m\u001b[0m\u001b[0;34m\u001b[0m\u001b[0m\n\u001b[1;32m    326\u001b[0m         \u001b[0mt1\u001b[0m \u001b[0;34m=\u001b[0m \u001b[0mtime\u001b[0m\u001b[0;34m.\u001b[0m\u001b[0mtime\u001b[0m\u001b[0;34m(\u001b[0m\u001b[0;34m)\u001b[0m\u001b[0;34m\u001b[0m\u001b[0;34m\u001b[0m\u001b[0m\n\u001b[0;32m--> 327\u001b[0;31m         \u001b[0mresidual\u001b[0m \u001b[0;34m=\u001b[0m \u001b[0;34m-\u001b[0m\u001b[0mself\u001b[0m\u001b[0;34m.\u001b[0m\u001b[0mapply_F\u001b[0m\u001b[0;34m(\u001b[0m\u001b[0mlambda_im\u001b[0m\u001b[0;34m,\u001b[0m \u001b[0mexternal_force\u001b[0m\u001b[0;34m=\u001b[0m\u001b[0;32mTrue\u001b[0m\u001b[0;34m,\u001b[0m\u001b[0mglobal_exchange\u001b[0m\u001b[0;34m=\u001b[0m\u001b[0;32mFalse\u001b[0m\u001b[0;34m)\u001b[0m\u001b[0;34m\u001b[0m\u001b[0;34m\u001b[0m\u001b[0m\n\u001b[0m\u001b[1;32m    328\u001b[0m         \u001b[0mnorm_d\u001b[0m \u001b[0;34m=\u001b[0m \u001b[0mnp\u001b[0m\u001b[0;34m.\u001b[0m\u001b[0msqrt\u001b[0m\u001b[0;34m(\u001b[0m\u001b[0mvdot\u001b[0m\u001b[0;34m(\u001b[0m\u001b[0mresidual\u001b[0m\u001b[0;34m,\u001b[0m\u001b[0mresidual\u001b[0m\u001b[0;34m)\u001b[0m\u001b[0;34m)\u001b[0m\u001b[0;34m\u001b[0m\u001b[0;34m\u001b[0m\u001b[0m\n\u001b[1;32m    329\u001b[0m         \u001b[0mt1\u001b[0m \u001b[0;34m=\u001b[0m \u001b[0mtime\u001b[0m\u001b[0;34m.\u001b[0m\u001b[0mtime\u001b[0m\u001b[0;34m(\u001b[0m\u001b[0;34m)\u001b[0m\u001b[0;34m\u001b[0m\u001b[0;34m\u001b[0m\u001b[0m\n",
      "\u001b[0;32m~/dev/PYFETI/pyfeti/src/feti_solver.py\u001b[0m in \u001b[0;36mapply_F\u001b[0;34m(self, v, external_force, **kwargs)\u001b[0m\n\u001b[1;32m    370\u001b[0m         \u001b[0md\u001b[0m \u001b[0;34m=\u001b[0m \u001b[0mnp\u001b[0m\u001b[0;34m.\u001b[0m\u001b[0mzeros\u001b[0m\u001b[0;34m(\u001b[0m\u001b[0mself\u001b[0m\u001b[0;34m.\u001b[0m\u001b[0mlambda_size\u001b[0m\u001b[0;34m)\u001b[0m\u001b[0;34m\u001b[0m\u001b[0;34m\u001b[0m\u001b[0m\n\u001b[1;32m    371\u001b[0m         \u001b[0;32mfor\u001b[0m \u001b[0minterface_id\u001b[0m\u001b[0;34m,\u001b[0m\u001b[0mglobal_index\u001b[0m \u001b[0;32min\u001b[0m \u001b[0mself\u001b[0m\u001b[0;34m.\u001b[0m\u001b[0mlocal2global_lambda_dofs\u001b[0m\u001b[0;34m.\u001b[0m\u001b[0mitems\u001b[0m\u001b[0;34m(\u001b[0m\u001b[0;34m)\u001b[0m\u001b[0;34m:\u001b[0m\u001b[0;34m\u001b[0m\u001b[0;34m\u001b[0m\u001b[0m\n\u001b[0;32m--> 372\u001b[0;31m             \u001b[0md\u001b[0m\u001b[0;34m[\u001b[0m\u001b[0mglobal_index\u001b[0m\u001b[0;34m]\u001b[0m \u001b[0;34m+=\u001b[0m \u001b[0mgap_dict\u001b[0m\u001b[0;34m[\u001b[0m\u001b[0minterface_id\u001b[0m\u001b[0;34m]\u001b[0m\u001b[0;34m\u001b[0m\u001b[0;34m\u001b[0m\u001b[0m\n\u001b[0m\u001b[1;32m    373\u001b[0m \u001b[0;34m\u001b[0m\u001b[0m\n\u001b[1;32m    374\u001b[0m         \u001b[0;32mreturn\u001b[0m \u001b[0;34m-\u001b[0m\u001b[0md\u001b[0m\u001b[0;34m\u001b[0m\u001b[0;34m\u001b[0m\u001b[0m\n",
      "\u001b[0;31mValueError\u001b[0m: non-broadcastable output operand with shape (1,) doesn't match the broadcast shape (1,2)"
     ]
    }
   ],
   "source": [
    "# Using PyFETI to solve the probrem described above\n",
    "K_dict = {1:K1,2:K2}\n",
    "B_dict = {1 : {(1,2) : B1}, 2 : {(2,1) : B2}}\n",
    "f_dict = {1:f1,2:f2}\n",
    "\n",
    "solver_obj = SerialFETIsolver(K_dict,B_dict,f_dict)\n",
    "\n",
    "solution_obj = solver_obj.solve()\n",
    "\n",
    "u_dual = solution_obj.displacement\n",
    "lambda_ = solution_obj.interface_lambda\n",
    "alpha =  solution_obj.alpha\n"
   ]
  },
  {
   "cell_type": "code",
   "execution_count": 9,
   "metadata": {},
   "outputs": [
    {
     "data": {
      "text/plain": [
       "array([0.25, 0.5 , 0.5 , 0.75])"
      ]
     },
     "execution_count": 9,
     "metadata": {},
     "output_type": "execute_result"
    }
   ],
   "source": [
    "u_dual"
   ]
  },
  {
   "cell_type": "code",
   "execution_count": 10,
   "metadata": {},
   "outputs": [
    {
     "data": {
      "text/plain": [
       "array([-0.25])"
      ]
     },
     "execution_count": 10,
     "metadata": {},
     "output_type": "execute_result"
    }
   ],
   "source": [
    "lambda_"
   ]
  },
  {
   "cell_type": "code",
   "execution_count": 11,
   "metadata": {},
   "outputs": [
    {
     "data": {
      "text/plain": [
       "array([-2.77555756e-17, -5.55111512e-17, -5.55111512e-17, -2.22044605e-16])"
      ]
     },
     "execution_count": 11,
     "metadata": {},
     "output_type": "execute_result"
    }
   ],
   "source": [
    "u_dual - u"
   ]
  },
  {
   "cell_type": "code",
   "execution_count": null,
   "metadata": {},
   "outputs": [],
   "source": []
  }
 ],
 "metadata": {
  "kernelspec": {
   "display_name": "Python (PyFETI)",
   "language": "python",
   "name": "pyfeti"
  },
  "language_info": {
   "codemirror_mode": {
    "name": "ipython",
    "version": 3
   },
   "file_extension": ".py",
   "mimetype": "text/x-python",
   "name": "python",
   "nbconvert_exporter": "python",
   "pygments_lexer": "ipython3",
   "version": "3.6.8"
  }
 },
 "nbformat": 4,
 "nbformat_minor": 2
}
