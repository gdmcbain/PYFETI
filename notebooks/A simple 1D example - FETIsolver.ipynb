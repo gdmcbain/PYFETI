{
 "cells": [
  {
   "cell_type": "markdown",
   "metadata": {},
   "source": [
    "Simple 1D bar problem\n",
    "-------------------------------\n",
    "\n",
    "Let's define a static equilibrium of 2 bars defined by the following matrices:\n",
    "\n",
    "* Bar 1\n",
    "$$\n",
    "\\mathbf{K_1} =\n",
    "\\begin{bmatrix}\n",
    "2 & -1 \\\\\n",
    "-1 & 1\n",
    "\\end{bmatrix}\n",
    "$$\n",
    "\n",
    "$$\n",
    "\\mathbf{B_1} =\n",
    "\\begin{bmatrix}\n",
    "0 & 1\n",
    "\\end{bmatrix}\n",
    "$$\n",
    "\n",
    "$$\n",
    "\\mathbf{f_1} =\n",
    "\\begin{bmatrix}\n",
    "0  \\\\\n",
    "0\n",
    "\\end{bmatrix}\n",
    "$$\n",
    "\n",
    "* Bar 2\n",
    "$$\n",
    "\\mathbf{K_2} =\n",
    "\\begin{bmatrix}\n",
    " 1 & -1 \\\\\n",
    "-1 & 2\n",
    "\\end{bmatrix}\n",
    "$$\n",
    "\n",
    "$$\n",
    "\\mathbf{B_2} =\n",
    "\\begin{bmatrix}\n",
    "-1 & 0\n",
    "\\end{bmatrix}\n",
    "$$\n",
    "\n",
    "\n",
    "\n",
    "$$\n",
    "\\mathbf{f_2} =\n",
    "\\begin{bmatrix}\n",
    "0  \\\\\n",
    "1\n",
    "\\end{bmatrix}\n",
    "$$\n",
    "\n",
    "These matrices discrebe two bars, where Bar 1 is fixed in the left and the Bar 2 fixed in the right.\n",
    "\n",
    "The equilibrium of these two bars are given by:\n",
    "\n",
    "$$\n",
    "\\mathbf{K_1} \\mathbf{u_1} = \\mathbf{f_1} \\\\\n",
    "\\mathbf{K_2}  \\mathbf{u_2} = \\mathbf{f_2} \\\\\n",
    "$$\n",
    "\n",
    "Now, we introduce the compatibility contraints between these two bars, such that:\n",
    "\n",
    "\n",
    "$$\n",
    "\\mathbf{B_1} \\mathbf{u_1} + \\mathbf{B_2} \\mathbf{u_2} = \\mathbf{0} \\\\\n",
    "$$\n",
    "\n",
    "Then, we can write the hybrid problem as:\n",
    "\n",
    "$$\n",
    "\\begin{bmatrix}\n",
    "\\mathbf{K} &  \\mathbf{B^T}  \\\\\n",
    "\\mathbf{B} & \\mathbf{0}\n",
    "\\end{bmatrix}\n",
    "\\begin{bmatrix}\n",
    "\\mathbf{u}  \\\\\n",
    "\\mathbf{\\lambda}\n",
    "\\end{bmatrix}\n",
    "=\n",
    "\\begin{bmatrix}\n",
    "\\mathbf{f}  \\\\\n",
    "\\mathbf{0}\n",
    "\\end{bmatrix}\n",
    "$$"
   ]
  },
  {
   "cell_type": "code",
   "execution_count": 1,
   "metadata": {},
   "outputs": [],
   "source": [
    "import numpy as np\n",
    "from scipy.sparse import linalg\n",
    "from scipy.sparse import coo_matrix, bmat, hstack, vstack, linalg\n",
    "from pyfeti.src.feti_solver import SerialFETIsolver\n",
    "\n",
    "\n",
    "# A simple example with Positive Define Domains\n",
    "K1 = np.array([[2,-1],[-1,1]])\n",
    "K2 = np.array([[1,-1],[-1,2]])\n",
    "B1 = np.array([[0,1]]) \n",
    "B2 = np.array([[-1,0]]) \n",
    "f1 = np.array([0.,0.])                \n",
    "f2 = np.array([0.,1.])                \n",
    "               \n",
    "\n",
    "    \n",
    "K = bmat([[K1,None],[None,K2]])\n",
    "B = np.bmat([B1,B2])\n",
    "nc, ndof = B.shape\n",
    "f = np.concatenate([f1,f2])\n",
    "b = np.concatenate([f,np.zeros(nc)])\n",
    "A = bmat([[K,B.T],[B,None]]).A"
   ]
  },
  {
   "cell_type": "code",
   "execution_count": 2,
   "metadata": {},
   "outputs": [
    {
     "data": {
      "text/plain": [
       "array([[ 2, -1,  0,  0,  0],\n",
       "       [-1,  1,  0,  0,  1],\n",
       "       [ 0,  0,  1, -1, -1],\n",
       "       [ 0,  0, -1,  2,  0],\n",
       "       [ 0,  1, -1,  0,  0]], dtype=int64)"
      ]
     },
     "execution_count": 2,
     "metadata": {},
     "output_type": "execute_result"
    }
   ],
   "source": [
    "\n",
    "A"
   ]
  },
  {
   "cell_type": "code",
   "execution_count": 3,
   "metadata": {},
   "outputs": [
    {
     "data": {
      "text/plain": [
       "array([0., 0., 0., 1., 0.])"
      ]
     },
     "execution_count": 3,
     "metadata": {},
     "output_type": "execute_result"
    }
   ],
   "source": [
    "b"
   ]
  },
  {
   "cell_type": "code",
   "execution_count": 4,
   "metadata": {},
   "outputs": [],
   "source": [
    "x = np.linalg.solve(A,b)\n",
    "u = x[:ndof]\n",
    "lambda_ = x[-nc:]\n"
   ]
  },
  {
   "cell_type": "code",
   "execution_count": 5,
   "metadata": {},
   "outputs": [],
   "source": [
    "# dual formulation\n",
    "\n",
    "K_inv = np.linalg.inv(K.A)\n",
    "F = B@K_inv@B.T\n",
    "d = B@K_inv@f\n",
    "\n",
    "x_cg, info = linalg.cg(F,d)"
   ]
  },
  {
   "cell_type": "code",
   "execution_count": 6,
   "metadata": {},
   "outputs": [
    {
     "data": {
      "text/plain": [
       "array([0.])"
      ]
     },
     "execution_count": 6,
     "metadata": {},
     "output_type": "execute_result"
    }
   ],
   "source": [
    "x_cg - lambda_"
   ]
  },
  {
   "cell_type": "code",
   "execution_count": 7,
   "metadata": {},
   "outputs": [
    {
     "name": "stdout",
     "output_type": "stream",
     "text": [
      "[0. 0. 0. 0. 0.]\n"
     ]
    }
   ],
   "source": [
    "r = A@x - b\n",
    "print(r)"
   ]
  },
  {
   "cell_type": "code",
   "execution_count": 8,
   "metadata": {},
   "outputs": [],
   "source": [
    "# Using PyFETI to solve the probrem described above\n",
    "K_dict = {1:K1,2:K2}\n",
    "B_dict = {1 : {(1,2) : B1}, 2 : {(2,1) : B2}}\n",
    "f_dict = {1:f1,2:f2}\n",
    "\n",
    "solver_obj = SerialFETIsolver(K_dict,B_dict,f_dict)\n",
    "\n",
    "solution_obj = solver_obj.solve()\n",
    "\n",
    "u_dual = solution_obj.displacement\n",
    "lambda_ = solution_obj.interface_lambda\n",
    "alpha =  solution_obj.alpha\n"
   ]
  },
  {
   "cell_type": "code",
   "execution_count": 9,
   "metadata": {},
   "outputs": [
    {
     "data": {
      "text/plain": [
       "array([0.25, 0.5 , 0.5 , 0.75])"
      ]
     },
     "execution_count": 9,
     "metadata": {},
     "output_type": "execute_result"
    }
   ],
   "source": [
    "u_dual"
   ]
  },
  {
   "cell_type": "code",
   "execution_count": 10,
   "metadata": {},
   "outputs": [
    {
     "data": {
      "text/plain": [
       "array([-0.25])"
      ]
     },
     "execution_count": 10,
     "metadata": {},
     "output_type": "execute_result"
    }
   ],
   "source": [
    "lambda_"
   ]
  },
  {
   "cell_type": "code",
   "execution_count": 11,
   "metadata": {},
   "outputs": [
    {
     "data": {
      "text/plain": [
       "array([-2.77555756e-17, -5.55111512e-17, -5.55111512e-17, -2.22044605e-16])"
      ]
     },
     "execution_count": 11,
     "metadata": {},
     "output_type": "execute_result"
    }
   ],
   "source": [
    "u_dual - u"
   ]
  },
  {
   "cell_type": "code",
   "execution_count": null,
   "metadata": {},
   "outputs": [],
   "source": []
  }
 ],
 "metadata": {
  "kernelspec": {
   "display_name": "Python (PyFETI)",
   "language": "python",
   "name": "pyfeti"
  },
  "language_info": {
   "codemirror_mode": {
    "name": "ipython",
    "version": 3
   },
   "file_extension": ".py",
   "mimetype": "text/x-python",
   "name": "python",
   "nbconvert_exporter": "python",
   "pygments_lexer": "ipython3",
   "version": "3.6.8"
  }
 },
 "nbformat": 4,
 "nbformat_minor": 2
}
