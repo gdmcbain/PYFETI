{
 "cells": [
  {
   "cell_type": "markdown",
   "metadata": {},
   "source": [
    "Simple 1D bar problem\n",
    "-------------------------------\n",
    "\n",
    "Let's define a static equilibrium of 2 bars defined by the following matrices:\n",
    "\n",
    "* Bar 1\n",
    "$$\n",
    "\\mathbf{K_1} =\n",
    "\\begin{bmatrix}\n",
    "1 & -1 & 0 \\\\ \n",
    "-1 & 2 & -1 \\\\\n",
    "0 & -1 & 1\n",
    "\\end{bmatrix}\n",
    "$$\n",
    "\n",
    "$$\n",
    "\\mathbf{B_1^{12}} =\n",
    "\\begin{bmatrix}\n",
    "0 & 0 & 1 \\\\\n",
    "\\end{bmatrix}\n",
    "$$\n",
    "\n",
    "$$\n",
    "\\mathbf{B_1^{11}} =\n",
    "\\begin{bmatrix}\n",
    "1 & 0 & 0 \\\\\n",
    "\\end{bmatrix}\n",
    "$$\n",
    "\n",
    "$$\n",
    "\\mathbf{f_1} =\n",
    "\\begin{bmatrix}\n",
    "0  \\\\\n",
    "0  \\\\\n",
    "0  \n",
    "\\end{bmatrix}\n",
    "$$\n",
    "\n",
    "* Bar 2\n",
    "$$\n",
    "\\mathbf{K_2} =\n",
    "\\begin{bmatrix}\n",
    "1 & -1 & 0 \\\\ \n",
    "-1 & 2 & -1 \\\\\n",
    "0 & -1 & 1\n",
    "\\end{bmatrix}\n",
    "$$\n",
    "\n",
    "$$\n",
    "\\mathbf{B_2^{21}} =\n",
    "\\begin{bmatrix}\n",
    "-1 & 0 & 0 \\\\\n",
    "\\end{bmatrix}\n",
    "$$\n",
    "\n",
    "$$\n",
    "\\mathbf{B_2^{22}} =\n",
    "\\begin{bmatrix}\n",
    "0 & 0 & 1 \\\\\n",
    "\\end{bmatrix}\n",
    "$$\n",
    "\n",
    "\n",
    "$$\n",
    "\\mathbf{f_2} =\n",
    "\\begin{bmatrix}\n",
    "0  \\\\\n",
    "1 \\\\\n",
    "0\n",
    "\\end{bmatrix}\n",
    "$$\n",
    "\n",
    "These matrices discrebe two bars, where Bar 1 is fixed in the left and the Bar 2 fixed in the right.\n",
    "\n",
    "The equilibrium of these two bars are given by:\n",
    "\n",
    "$$\n",
    "\\mathbf{K_1} \\mathbf{u_1} = \\mathbf{f_1} \\\\\n",
    "\\mathbf{K_2}  \\mathbf{u_2} = \\mathbf{f_2} \\\\\n",
    "$$\n",
    "\n",
    "Now, we introduce the compatibility contraints between these two bars, such that:\n",
    "\n",
    "\n",
    "$$\n",
    "\\mathbf{B_1^{12}} \\mathbf{u_1} + \\mathbf{B_2^{21}} \\mathbf{u_2} = \\mathbf{0} \\\\\n",
    "\\mathbf{B_1^{11}} \\mathbf{u_1}  = \\mathbf{0} \\\\\n",
    "\\mathbf{B_2^{22}} \\mathbf{u_2}  = \\mathbf{0} \\\\\n",
    "$$\n",
    "\n",
    "Then, we can write the hybrid problem as:\n",
    "\n",
    "$$\n",
    "\\begin{bmatrix}\n",
    "\\mathbf{K} &  \\mathbf{B^T}  \\\\\n",
    "\\mathbf{B} & \\mathbf{0}\n",
    "\\end{bmatrix}\n",
    "\\begin{bmatrix}\n",
    "\\mathbf{u}  \\\\\n",
    "\\mathbf{\\lambda}\n",
    "\\end{bmatrix}\n",
    "=\n",
    "\\begin{bmatrix}\n",
    "\\mathbf{f}  \\\\\n",
    "\\mathbf{0}\n",
    "\\end{bmatrix}\n",
    "$$"
   ]
  },
  {
   "cell_type": "code",
   "execution_count": 1,
   "metadata": {},
   "outputs": [],
   "source": [
    "import numpy as np\n",
    "from pyfeti.src.feti_solver import ParallelFETIsolver, SerialFETIsolver\n",
    "\n",
    "# A simple example with Positive Define Domains\n",
    "K1 = np.array([[1.,-1.,0.],[-1.,2.,-1.],[0.,-1.,1.]])\n",
    "K2 = np.array([[1.,-1.,0.],[-1.,2.,-1.],[0.,-1.,1.]])\n",
    "f1 = np.array([0.,0.,0.])                \n",
    "f2 = np.array([0.,1.,0.])                \n",
    "B11 = np.array([[1,0,0]]) \n",
    "B12 = np.array([[0,0,1]]) \n",
    "B21 = np.array([[-1,0,0]]) \n",
    "B22 = np.array([[0,0,1]]) \n",
    "\n"
   ]
  },
  {
   "cell_type": "code",
   "execution_count": 2,
   "metadata": {},
   "outputs": [
    {
     "name": "stderr",
     "output_type": "stream",
     "text": [
      "WARNING:root:Dirichlet B.C set to 0!\n",
      "WARNING:root:Dirichlet B.C set to 0!\n",
      "WARNING:root:Dirichlet B.C set to 0!\n",
      "WARNING:root:Dirichlet B.C set to 0!\n",
      "WARNING:root:Dirichlet B.C set to 0!\n",
      "WARNING:root:Dirichlet B.C set to 0!\n"
     ]
    }
   ],
   "source": [
    "# Using PyFETI to solve the probrem described above\n",
    "K_dict = {1:K1,2:K2}\n",
    "B_dict = {1:{(1,2):B12, (1,1):B11}, 2:{(2,1):B21, (2,2):B22}}\n",
    "f_dict = {1:f1,2:f2}\n",
    "\n",
    "solver_obj = SerialFETIsolver(K_dict,B_dict,f_dict, tolerance=1.0e-12)\n",
    "solution_obj = solver_obj.solve()\n",
    "\n",
    "u_dual = solution_obj.displacement\n",
    "lambda_ = solution_obj.interface_lambda\n",
    "alpha =  solution_obj.alpha\n",
    "\n"
   ]
  },
  {
   "cell_type": "code",
   "execution_count": 3,
   "metadata": {},
   "outputs": [
    {
     "data": {
      "text/plain": [
       "array([ 2.77555756e-17,  2.50000000e-01,  5.00000000e-01,  5.00000000e-01,\n",
       "        7.50000000e-01, -1.11022302e-16])"
      ]
     },
     "execution_count": 3,
     "metadata": {},
     "output_type": "execute_result"
    }
   ],
   "source": [
    "u_dual"
   ]
  },
  {
   "cell_type": "code",
   "execution_count": 4,
   "metadata": {},
   "outputs": [
    {
     "data": {
      "text/plain": [
       "array([ 0.25, -0.25,  0.75])"
      ]
     },
     "execution_count": 4,
     "metadata": {},
     "output_type": "execute_result"
    }
   ],
   "source": [
    "lambda_"
   ]
  },
  {
   "cell_type": "code",
   "execution_count": 5,
   "metadata": {},
   "outputs": [
    {
     "data": {
      "text/plain": [
       "array([0.4330127 , 0.72168784])"
      ]
     },
     "execution_count": 5,
     "metadata": {},
     "output_type": "execute_result"
    }
   ],
   "source": [
    "alpha"
   ]
  }
 ],
 "metadata": {
  "kernelspec": {
   "display_name": "Python 3",
   "language": "python",
   "name": "python3"
  },
  "language_info": {
   "codemirror_mode": {
    "name": "ipython",
    "version": 3
   },
   "file_extension": ".py",
   "mimetype": "text/x-python",
   "name": "python",
   "nbconvert_exporter": "python",
   "pygments_lexer": "ipython3",
   "version": "3.7.2"
  }
 },
 "nbformat": 4,
 "nbformat_minor": 2
}
