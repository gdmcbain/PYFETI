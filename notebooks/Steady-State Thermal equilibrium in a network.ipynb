{
 "cells": [
  {
   "cell_type": "code",
   "execution_count": 1,
   "metadata": {},
   "outputs": [],
   "source": [
    "import numpy as np\n",
    "from pyfeti.src.feti_solver import SerialFETIsolver\n",
    "from scipy.sparse import linalg\n",
    "\n",
    "K1 = K3 = np.array([[1, 0, 0, 0],\n",
    "                    [0, 1, -1, 0],\n",
    "                    [0, 0, 1, -1],\n",
    "                    [0, 0, 0, 1]])\n",
    "\n",
    "K2 = K4 = np.array([[1, -1, 0, 0],\n",
    "                    [0, 1, 0, 0],\n",
    "                    [0, 0, 1, 0],\n",
    "                    [-1, 0, 0, 1]])\n",
    "\n",
    "q0 = 1.0\n",
    "q1 = np.array([0.,0.,0.,0.])\n",
    "q2 = np.array([0.,0.,0.,0.])\n",
    "q3 = np.array([0.,0.,0.5,0.])*q0\n",
    "q4 = np.array([0.,0.,0.,0.5])*q0\n",
    "\n",
    "B12 =  np.array([[0,1,0,0],\n",
    "                 [0,0,1,0]])\n",
    "\n",
    "B13 = np.array([[0,0,1,0],\n",
    "                [0,0,0,1]])\n",
    "\n",
    "B21 =  np.array([[-1,0,0,0],\n",
    "                 [0,0,0,-1]])\n",
    "\n",
    "B24 = np.array([[0,0,1,0],\n",
    "                [0,0,0,1]])\n",
    "\n",
    "B31 = np.array([[0,-1,0,0],\n",
    "                [-1,0,0,0]])\n",
    "\n",
    "B34 = np.array([[0,1,0,0],\n",
    "                [0,0,1,0]])\n",
    "\n",
    "B42 = np.array([[0,-1,0,0],\n",
    "                [-1,0,0,0]])\n",
    "\n",
    "B43 = np.array([[-1,0,0,0],\n",
    "                [ 0,0,0,-1]])\n",
    "\n",
    "\n",
    "# Using PyFETI to solve the probrem described above\n",
    "K_dict = {1:K1,2:K2, 3:K3, 4:K4}\n",
    "B_dict = {1 : {(1,2) : B12, (1,3) : B13}, \n",
    "          2 : {(2,1) : B21, (2,4) : B24}, \n",
    "          3 : {(3,1) : B31, (3,4) : B34}, \n",
    "          4 : {(4,2) : B42, (4,3) : B43}}\n",
    "\n",
    "q_dict = {1:q1 ,2:q2, 3:q3, 4:q4}\n"
   ]
  },
  {
   "cell_type": "code",
   "execution_count": 2,
   "metadata": {},
   "outputs": [],
   "source": [
    "solver_obj = SerialFETIsolver(K_dict,B_dict,q_dict)\n",
    "\n",
    "solution_obj = solver_obj.solve()\n",
    "\n",
    "T_dual = solution_obj.displacement\n",
    "lambda_ = solution_obj.interface_lambda\n",
    "alpha =  solution_obj.alpha"
   ]
  },
  {
   "cell_type": "code",
   "execution_count": 3,
   "metadata": {},
   "outputs": [
    {
     "data": {
      "text/plain": [
       "array([0.        , 0.03114578, 0.08468567, 0.02331592, 0.03114578,\n",
       "       0.02567112, 0.04293025, 0.08468567, 0.02331592, 0.08468567,\n",
       "       0.45657332, 0.26176559, 0.08468567, 0.04293025, 0.        ,\n",
       "       0.45657332])"
      ]
     },
     "execution_count": 3,
     "metadata": {},
     "output_type": "execute_result"
    }
   ],
   "source": [
    "T_dual"
   ]
  },
  {
   "cell_type": "code",
   "execution_count": 4,
   "metadata": {},
   "outputs": [
    {
     "data": {
      "text/plain": [
       "array([-0.00654289,  0.00454132, -0.08830518,  0.02331592, -0.04293025,\n",
       "       -0.09558532,  0.00090125,  0.08111535])"
      ]
     },
     "execution_count": 4,
     "metadata": {},
     "output_type": "execute_result"
    }
   ],
   "source": [
    "lambda_"
   ]
  },
  {
   "cell_type": "code",
   "execution_count": 5,
   "metadata": {},
   "outputs": [
    {
     "data": {
      "text/plain": [
       "array([], dtype=float64)"
      ]
     },
     "execution_count": 5,
     "metadata": {},
     "output_type": "execute_result"
    }
   ],
   "source": [
    "alpha"
   ]
  },
  {
   "cell_type": "code",
   "execution_count": 6,
   "metadata": {},
   "outputs": [],
   "source": [
    "B = solver_obj.manager.assemble_global_B()\n",
    "K, f = solver_obj.manager.assemble_global_K_and_f()\n",
    "G = solver_obj.manager.assemble_G()"
   ]
  },
  {
   "cell_type": "code",
   "execution_count": 7,
   "metadata": {},
   "outputs": [
    {
     "data": {
      "text/plain": [
       "array([ 1.06428234e-11,  1.08541370e-11,  2.02154959e-12,  4.40979545e-12,\n",
       "       -1.16320495e-11, -7.50913220e-13,  8.08167422e-12,  1.50340851e-11])"
      ]
     },
     "execution_count": 7,
     "metadata": {},
     "output_type": "execute_result"
    }
   ],
   "source": [
    "B.dot(T_dual)"
   ]
  },
  {
   "cell_type": "code",
   "execution_count": 8,
   "metadata": {},
   "outputs": [],
   "source": [
    "K_inv = np.linalg.inv(K.A)\n",
    "F = B@K_inv@B.T\n",
    "d = B@K_inv@f"
   ]
  },
  {
   "cell_type": "code",
   "execution_count": 10,
   "metadata": {},
   "outputs": [],
   "source": [
    "lambda_cg, info = linalg.cg(F,d)"
   ]
  },
  {
   "cell_type": "code",
   "execution_count": 11,
   "metadata": {},
   "outputs": [
    {
     "data": {
      "text/plain": [
       "array([ 0.08333333,  0.04166667, -0.20833333,  0.        ,  0.        ,\n",
       "       -0.04166667,  0.20833333, -0.08333333])"
      ]
     },
     "execution_count": 11,
     "metadata": {},
     "output_type": "execute_result"
    }
   ],
   "source": [
    "lambda_cg"
   ]
  },
  {
   "cell_type": "code",
   "execution_count": 12,
   "metadata": {},
   "outputs": [
    {
     "data": {
      "text/plain": [
       "array([-0.00654289,  0.00454132, -0.08830518,  0.02331592, -0.04293025,\n",
       "       -0.09558532,  0.00090125,  0.08111535])"
      ]
     },
     "execution_count": 12,
     "metadata": {},
     "output_type": "execute_result"
    }
   ],
   "source": [
    "lambda_\n"
   ]
  },
  {
   "cell_type": "code",
   "execution_count": 13,
   "metadata": {},
   "outputs": [],
   "source": [
    "T_cg = K_inv@(f - B.T@lambda_cg)"
   ]
  },
  {
   "cell_type": "code",
   "execution_count": 14,
   "metadata": {},
   "outputs": [],
   "source": [
    "T_feti = K_inv@(f - B.T@lambda_)"
   ]
  },
  {
   "cell_type": "code",
   "execution_count": 15,
   "metadata": {},
   "outputs": [
    {
     "data": {
      "text/plain": [
       "array([0.        , 0.08333333, 0.16666667, 0.        , 0.08333333,\n",
       "       0.        , 0.        , 0.16666667, 0.        , 0.16666667,\n",
       "       0.58333333, 0.        , 0.16666667, 0.        , 0.        ,\n",
       "       0.58333333])"
      ]
     },
     "execution_count": 15,
     "metadata": {},
     "output_type": "execute_result"
    }
   ],
   "source": [
    "T_cg"
   ]
  },
  {
   "cell_type": "code",
   "execution_count": 16,
   "metadata": {},
   "outputs": [
    {
     "data": {
      "text/plain": [
       "array([ 0.        ,  0.06699082,  0.06044793, -0.02331592, -0.00654289,\n",
       "        0.        ,  0.04293025,  0.09358376,  0.02331592,  0.32967823,\n",
       "        0.41888465,  0.        , -0.13761433, -0.04293025,  0.        ,\n",
       "        0.44350102])"
      ]
     },
     "execution_count": 16,
     "metadata": {},
     "output_type": "execute_result"
    }
   ],
   "source": [
    "T_feti"
   ]
  },
  {
   "cell_type": "code",
   "execution_count": 18,
   "metadata": {},
   "outputs": [
    {
     "data": {
      "text/plain": [
       "array([ 4.73205081e+00+0.00000000e+00j,  1.26794919e+00+0.00000000e+00j,\n",
       "        2.00000644e+00+1.11516508e-05j,  2.00000644e+00-1.11516508e-05j,\n",
       "        1.99998712e+00+0.00000000e+00j, -4.86636234e-17+0.00000000e+00j,\n",
       "        2.00000000e+00+0.00000000e+00j,  2.00000000e+00+0.00000000e+00j])"
      ]
     },
     "execution_count": 18,
     "metadata": {},
     "output_type": "execute_result"
    }
   ],
   "source": [
    "eigval, eigvec = np.linalg.eig(F)\n",
    "\n",
    "eigval"
   ]
  },
  {
   "cell_type": "code",
   "execution_count": 19,
   "metadata": {},
   "outputs": [
    {
     "data": {
      "text/plain": [
       "array([[ 2.,  1.,  1.,  1.,  0.,  0.,  0.,  0.],\n",
       "       [ 1.,  2.,  1.,  1.,  0., -1.,  0.,  0.],\n",
       "       [ 0.,  1.,  2.,  1.,  0.,  0., -1., -1.],\n",
       "       [ 0.,  0.,  0.,  2.,  0.,  0.,  0.,  0.],\n",
       "       [ 0.,  0.,  0.,  0.,  2.,  0.,  0.,  0.],\n",
       "       [-1., -1.,  0.,  0.,  1.,  2.,  1.,  0.],\n",
       "       [ 0.,  0., -1.,  0.,  1.,  1.,  2.,  1.],\n",
       "       [ 0.,  0.,  0.,  0.,  1.,  1.,  1.,  2.]])"
      ]
     },
     "execution_count": 19,
     "metadata": {},
     "output_type": "execute_result"
    }
   ],
   "source": [
    "F"
   ]
  },
  {
   "cell_type": "code",
   "execution_count": null,
   "metadata": {},
   "outputs": [],
   "source": []
  }
 ],
 "metadata": {
  "kernelspec": {
   "display_name": "Python (NDCSI)",
   "language": "python",
   "name": "ndcsi"
  },
  "language_info": {
   "codemirror_mode": {
    "name": "ipython",
    "version": 3
   },
   "file_extension": ".py",
   "mimetype": "text/x-python",
   "name": "python",
   "nbconvert_exporter": "python",
   "pygments_lexer": "ipython3",
   "version": "3.6.6"
  }
 },
 "nbformat": 4,
 "nbformat_minor": 2
}
